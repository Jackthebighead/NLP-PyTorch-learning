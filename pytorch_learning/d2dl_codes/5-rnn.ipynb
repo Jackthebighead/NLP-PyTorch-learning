{
 "cells": [
  {
   "cell_type": "markdown",
   "metadata": {},
   "source": [
    "# RNNs"
   ]
  },
  {
   "cell_type": "markdown",
   "metadata": {},
   "source": [
    "## RNNs and Language Models"
   ]
  },
  {
   "cell_type": "markdown",
   "metadata": {},
   "source": [
    "- 循环神经网络和语言模型\n",
    "  - 循环神经网络：通过隐藏状态来存储之前时间步的信息\n",
    "    - 不含隐藏状态的神经网络（前馈NN）：\n",
    "      - 对每个神经元，隐藏层的输出$H=\\phi(XW_x+b_h)$\n",
    "      - 输出层的输出为：$O=\\phi(HW_h+b_o)$\n",
    "    - 含隐藏状态的神经网络：考虑输入数据存在时间相关性的情况。保存上一时间步的隐藏变量$H_{t−1}$，时间步tt的隐藏变量的计算由当前时间步的输入和上一时间步的隐藏变量共同决定。\n",
    "      - 隐藏层：$H_t=\\phi(X_tW_{xh}+H_{t-1}W_{hh}+b_h)$\n",
    "      - 输出层：$O_t=\\phi(H_tW_{ho}+b_o)$\n",
    "  - 语言模型的任务：对数据输入，预测下一个字符。\n",
    "    - 概率语言模型：$P(w_1,w_2,...,w_n)=\\prod_{i=1}^nP(w_i|w_1,w_2,....w_{i-1})$\n",
    "    - 用循环神经网络构建语言模型：用字符级循环神经网络（character-level recurrent neural network）构建更为简单，因为字符的种类要远远小于词或短语的种类。\n",
    "  - 数据集：周杰伦歌词"
   ]
  },
  {
   "cell_type": "code",
   "execution_count": 112,
   "metadata": {},
   "outputs": [],
   "source": [
    "import torch\n",
    "import random\n",
    "#import zipfile\n",
    "# with zipfile.Zipfile(PATH) as a:\n",
    "# with ...txt...\n",
    "import d2lzh_pytorch as d2dl"
   ]
  },
  {
   "cell_type": "markdown",
   "metadata": {},
   "source": [
    "### 预处理"
   ]
  },
  {
   "cell_type": "markdown",
   "metadata": {},
   "source": [
    "- 一些细节\n",
    "  - 代码封装在d2lzh_pytorch包里的`load_data_jay_lyrics`函数中，以方便后面章节调用。调用该函数后会依次得到corpus_indices、char_to_idx、idx_to_char和vocab_size这4个变量。\n",
    "  - `vocab_size`为1027\n",
    "  - `char_list`即idx_to_char: char的list，互不相同。知道index可在list查找char\n",
    "  - `char_dict`即char_to_idx:char字典，互不相同，value是char在list中的特异下标。知道char可以在dict查找index\n",
    "  - `corpus_indices`: corpus中每个词替换成在字典中对应的下标。"
   ]
  },
  {
   "cell_type": "code",
   "execution_count": 113,
   "metadata": {},
   "outputs": [
    {
     "name": "stdout",
     "output_type": "stream",
     "text": [
      "想要有直升机\n",
      "想要和你飞到宇宙去\n",
      "想要和你融化在一起\n",
      "融化在宇宙里\n",
      "我每天每天每\n",
      "63282\n"
     ]
    },
    {
     "data": {
      "text/plain": [
       "'想要有直升机 想要和你飞到宇宙去 想要和你融化在一起 融化在宇宙里 我每天每天每'"
      ]
     },
     "execution_count": 113,
     "metadata": {},
     "output_type": "execute_result"
    }
   ],
   "source": [
    "# Load Data\n",
    "with open('jaychou_lyrics.txt') as f:\n",
    "    corpus_chars = f.read()\n",
    "print(corpus_chars[:40])\n",
    "print(len(corpus_chars))\n",
    "\n",
    "# Data Preprocessing:\n",
    "# replace \\n with ' '\n",
    "corpus_chars = corpus_chars.replace('\\n',' ').replace('\\r',' ')\n",
    "corpus_chars = corpus_chars[:10000]\n",
    "corpus_chars[:40]"
   ]
  },
  {
   "cell_type": "code",
   "execution_count": 114,
   "metadata": {
    "scrolled": true
   },
   "outputs": [
    {
     "name": "stdout",
     "output_type": "stream",
     "text": [
      "1027\n",
      "呜 0\n",
      "欣 1\n",
      "哈 2\n",
      "面 3\n",
      "可 4\n"
     ]
    }
   ],
   "source": [
    "# Build a char-index\n",
    "#print(type(corpus_chars))  # str\n",
    "char_list = list(set(corpus_chars))  # set(): make it distinct\n",
    "char_dict = dict([(char,i) for i, char in enumerate(char_list)])\n",
    "print(len(char_dict))\n",
    "\n",
    "i=0\n",
    "for key, value in char_dict.items():\n",
    "    if i<5:\n",
    "        print(key, value)\n",
    "        i += 1"
   ]
  },
  {
   "cell_type": "code",
   "execution_count": 115,
   "metadata": {},
   "outputs": [
    {
     "name": "stdout",
     "output_type": "stream",
     "text": [
      "chars: 想要有直升机 想要和你飞到宇宙去 想要和\n",
      "indices: [393, 887, 551, 985, 749, 96, 197, 393, 887, 512, 708, 302, 709, 336, 536, 103, 197, 393, 887, 512]\n"
     ]
    }
   ],
   "source": [
    "# transfer training data to index\n",
    "corpus_indices = [char_dict[char] for char in corpus_chars]\n",
    "sample = corpus_indices[:20]\n",
    "print('chars:',''.join([char_list[idx] for idx in sample]))\n",
    "print('indices:',sample)"
   ]
  },
  {
   "cell_type": "markdown",
   "metadata": {},
   "source": [
    "### 时序数据\n",
    "- 时序数据一个样本是连续的字符，标签是这些字符在训练集中的下一个字符。\n",
    "- 对时序数据采样（batch）的方法有\n",
    "  - **随机采样**：其中批量大小batch_size指每个小批量的样本数，num_steps为每个样本所包含的时间步数。 在随机采样中，每个样本是原始序列上任意截取的一段序列。相邻的两个随机小批量在原始序列上的位置不一定相毗邻。因此，我们无法用一个小批量最终时间步的隐藏状态来初始化下一个小批量的隐藏状态。在训练模型时，每次随机采样前都需要重新初始化隐藏状态。\n",
    "    - `d2dl.data_iter_random`\n",
    "  - **相邻采样**：令相邻的两个随机小批量在**原始序列**上的位置相毗邻。可以用一个小批量最终时间步的隐藏状态来初始化下一个小批量的隐藏状态，从而使下一个小批量的输出也取决于当前小批量的输入，并如此循环下去。\n",
    "    - 好处：在训练模型时我们只需在该迭代周期开始时初始化隐藏层。\n",
    "    - 坏处：若样本相邻，batch之间的隐藏层串联，梯度计算的时候将会彼此依赖，那么计算到后面的成本很大。\n",
    "      - 解决方法：在batch之间将hidden的梯度从计算图中分离开来。\n",
    "    - 具体构造：\n",
    "      - 想象一列句子（由char或char的对应的indice组成），我们把它变成一个(batch_size,-1)的矩阵，这样每列是一个batch，列与列之间每行对应的char是连续（consecutive）的。\n",
    "      - 再用列数除以一个样本所含的char数量num_steps，就是batch数量。\n",
    "      - 最后最这个矩阵遍历获得iter的X和Y。（Y比X在位置上多1个char）\n",
    "    - `d2dl.data_iter_consecutive`"
   ]
  },
  {
   "cell_type": "code",
   "execution_count": 116,
   "metadata": {},
   "outputs": [
    {
     "name": "stdout",
     "output_type": "stream",
     "text": [
      "X:  tensor([[18., 19., 20., 21., 22., 23.],\n",
      "        [ 6.,  7.,  8.,  9., 10., 11.]]) \n",
      "Y: tensor([[19., 20., 21., 22., 23., 24.],\n",
      "        [ 7.,  8.,  9., 10., 11., 12.]]) \n",
      "\n",
      "X:  tensor([[ 0.,  1.,  2.,  3.,  4.,  5.],\n",
      "        [12., 13., 14., 15., 16., 17.]]) \n",
      "Y: tensor([[ 1.,  2.,  3.,  4.,  5.,  6.],\n",
      "        [13., 14., 15., 16., 17., 18.]]) \n",
      "\n"
     ]
    }
   ],
   "source": [
    "def data_iter_random(corpus_indices, batch_size, num_steps, device=None):\n",
    "    num_examples = (len(corpus_indices) - 1) // num_steps  # one batch contains how many Xs, X: num_steps char, \n",
    "    num_batch = num_examples // batch_size  # one epoch contains how many batches\n",
    "    example_indices = list(range(num_examples))  # [0,1,...exp_num]\n",
    "    random.shuffle(example_indices)  # [3,6,1,...,]\n",
    "    \n",
    "    def _data(pos):\n",
    "        return corpus_indices[pos:pos+num_steps]\n",
    "    if device is None:\n",
    "        device = torch.device('cuda' if torch.cuda.is_available() else 'cpu')\n",
    "    \n",
    "    for i in range(num_batch):\n",
    "        i = i * batch_size\n",
    "        batch_indices = example_indices[i:i+batch_size]\n",
    "        X = [_data(j*num_steps) for j in batch_indices]\n",
    "        Y = [_data(j*num_steps+1) for j in batch_indices]\n",
    "        yield torch.tensor(X,dtype=torch.float32,device=device), torch.tensor(Y,dtype=torch.float32,device=device)\n",
    "    \n",
    "# test\n",
    "my_seq = list(range(30))\n",
    "for X, Y in data_iter_random(my_seq, batch_size=2, num_steps=6):\n",
    "    print('X: ', X, '\\nY:', Y, '\\n')"
   ]
  },
  {
   "cell_type": "code",
   "execution_count": 117,
   "metadata": {},
   "outputs": [
    {
     "name": "stdout",
     "output_type": "stream",
     "text": [
      "X:  tensor([[ 0.,  1.,  2.,  3.,  4.,  5.],\n",
      "        [15., 16., 17., 18., 19., 20.]]) \n",
      "Y: tensor([[ 1.,  2.,  3.,  4.,  5.,  6.],\n",
      "        [16., 17., 18., 19., 20., 21.]]) \n",
      " X.size: torch.Size([2, 6])\n",
      "X:  tensor([[ 6.,  7.,  8.,  9., 10., 11.],\n",
      "        [21., 22., 23., 24., 25., 26.]]) \n",
      "Y: tensor([[ 7.,  8.,  9., 10., 11., 12.],\n",
      "        [22., 23., 24., 25., 26., 27.]]) \n",
      " X.size: torch.Size([2, 6])\n"
     ]
    }
   ],
   "source": [
    "def data_iter_consecutive(corpus_indices, batch_size, num_steps, device=None):\n",
    "    if device == None:\n",
    "        device = torch.device('cuda' if torch.cuda.is_available() else 'cpu')\n",
    "    corpus_indices = torch.tensor(corpus_indices,dtype=torch.float32,device=device)\n",
    "    char_len = len(corpus_indices)\n",
    "    # construct a matrix that, \n",
    "    # every row is a consecutive sentence(chars) and every column is a batch (not consecutive in inside a batch).\n",
    "    length = char_len // batch_size \n",
    "    indices = corpus_indices[0:length*batch_size].view(batch_size,length) \n",
    "    batch_num = (length-1) // num_steps  # this is the batch_num to be consecutive\n",
    "    for i in range(batch_num):\n",
    "        i = i * num_steps\n",
    "        X = indices[:,i:i+num_steps]\n",
    "        Y = indices[:,i+1:i+num_steps+1]\n",
    "        yield X, Y\n",
    "\n",
    "        \n",
    "my_seq = list(range(30))\n",
    "for X, Y in data_iter_consecutive(my_seq, batch_size=2, num_steps=6):\n",
    "    print('X: ', X, '\\nY:', Y, '\\n', 'X.size:', X.size())   "
   ]
  },
  {
   "cell_type": "code",
   "execution_count": 118,
   "metadata": {},
   "outputs": [
    {
     "name": "stdout",
     "output_type": "stream",
     "text": [
      "tensor([[1, 2, 3],\n",
      "        [4, 5, 6]])\n"
     ]
    }
   ],
   "source": [
    "a = torch.tensor([1,2,3,4,5,6])\n",
    "print(a.view(2,3))"
   ]
  },
  {
   "cell_type": "markdown",
   "metadata": {},
   "source": [
    "## RNN from Scratch\n",
    "\n",
    "- 一些细节\n",
    "  - 训练\n",
    "    - RNN的outputs是num_step个(batch_size, vocab_size_one-hot)的列表，需要用torch.cat(dim=0)来将列表中元素按照第一维度(batch_size)进行拼接。\n",
    "    - y是(num_batch, num_steps), value是一个(0,vocabsize)的值\n",
    "    - 输入进crossEntropy比较的应该是（N\\*C）于（N）。实际上RNN的输出的交叉熵就相当于一个vocab_size的多分类问题。\n",
    "  - contiguous(): 在pytorch，view等方法约定不改变原内存，类似，用transpose等共享内存操作。所以如果我们想要按照这类操作之后的按行优先的tensor排列方式组织内存，需要contiguous来开辟一个新的内存来存储。\n",
    "    - 或者，用reshape函数就行\n",
    "    \n",
    "  - argmax返回index"
   ]
  },
  {
   "cell_type": "code",
   "execution_count": 119,
   "metadata": {},
   "outputs": [],
   "source": [
    "import time\n",
    "import math\n",
    "import numpy as np\n",
    "import torch\n",
    "from torch import nn, optim\n",
    "import torch.nn.functional as F\n",
    "\n",
    "import d2lzh_pytorch as d2dl\n",
    "device = torch.device('cuda' if torch.cuda.is_available() else 'cpu')\n"
   ]
  },
  {
   "cell_type": "code",
   "execution_count": 120,
   "metadata": {},
   "outputs": [],
   "source": [
    "# Load Data\n",
    "def load_data_jay_lyrics():\n",
    "    with open('jaychou_lyrics.txt') as f:\n",
    "        corpus_chars = f.read()\n",
    "    corpus_chars = corpus_chars.replace('\\n', ' ').replace('\\r', ' ')\n",
    "    corpus_chars = corpus_chars[0:10000]\n",
    "    idx_to_char = list(set(corpus_chars))\n",
    "    char_to_idx = dict([(char, i) for i, char in enumerate(idx_to_char)])\n",
    "    vocab_size = len(char_to_idx)\n",
    "    corpus_indices = [char_to_idx[char] for char in corpus_chars]\n",
    "    return corpus_indices, char_to_idx, idx_to_char, vocab_size\n",
    "\n",
    "\n",
    "(corpus_indices, char_dict, char_list, vocab_size) = load_data_jay_lyrics()"
   ]
  },
  {
   "cell_type": "code",
   "execution_count": 121,
   "metadata": {},
   "outputs": [
    {
     "name": "stdout",
     "output_type": "stream",
     "text": [
      "1027\n",
      "torch.Size([10000, 1027])\n",
      "torch.Size([2, 1027])\n"
     ]
    }
   ],
   "source": [
    "# one-hot method 1:\n",
    "print(vocab_size)\n",
    "inputs = F.one_hot(torch.LongTensor(corpus_indices), vocab_size)\n",
    "print(inputs.size())\n",
    "\n",
    "# one-hot method 2:\n",
    "def one_hot_transform(x, n_class, dtype=torch.float32):\n",
    "    # X is like tensor:[2,3,45,67765,...]\n",
    "    x = x.long()\n",
    "    res = torch.zeros(x.shape[0],n_class,dtype=dtype,device=x.device)\n",
    "    res.scatter_(1,x.view(-1,1),1)\n",
    "    return res\n",
    "\n",
    "def one_hot_fit(x, n_class, dtype=torch.float32):\n",
    "    # input x: (batch_size, seq_len(time_step))\n",
    "    return [one_hot_transform(x[:,i],n_class,dtype) for i in range(x.shape[1])]\n",
    "\n",
    "my_seq = list(range(30))\n",
    "for X, Y in data_iter_consecutive(my_seq, batch_size=2, num_steps=6):\n",
    "    inputs = one_hot_fit(X, vocab_size)\n",
    "print(inputs[0].size())"
   ]
  },
  {
   "cell_type": "code",
   "execution_count": 122,
   "metadata": {},
   "outputs": [],
   "source": [
    "# Define Model\n",
    "# initialization & hyperparameters\n",
    "num_inputs, num_hiddens, num_outputs = vocab_size, 256, vocab_size\n",
    "\n",
    "def get_params():\n",
    "    def _one(shape):\n",
    "        ts = torch.tensor(np.random.normal(0,0.01,size=shape),device=device,dtype=torch.float32)\n",
    "        return torch.nn.Parameter(ts, requires_grad=True)\n",
    "    W_ih = _one((num_inputs,num_hiddens))\n",
    "    W_hh = _one((num_hiddens,num_hiddens))\n",
    "    b_h = torch.nn.Parameter(torch.zeros(num_hiddens,device=device,requires_grad=True))\n",
    "    W_ho = _one((num_hiddens,num_outputs))\n",
    "    b_o = torch.nn.Parameter(torch.zeros(num_outputs,device=device,requires_grad=True))\n",
    "    return nn.ParameterList([W_ih,W_hh,b_h,W_ho,b_o])\n",
    "\n",
    "\n",
    "# model\n",
    "def init_rnn_state(batch_size, num_hiddens, device):\n",
    "    return (torch.zeros((batch_size,num_hiddens),device=device),)\n",
    "\n",
    "def rnn(inputs, state, params):\n",
    "    # inputs含有num_step个(batch,vocab)\n",
    "    W_ih, W_hh, b_h, W_ho, b_o = params\n",
    "    H, = state\n",
    "    outputs = []\n",
    "    for X in inputs:  # 对inputs里每个time step算\n",
    "        H = torch.tanh(torch.matmul(X,W_ih)+torch.matmul(H,W_hh)+b_h)\n",
    "        Y = torch.matmul(H,W_ho)+b_o\n",
    "        outputs.append(Y)\n",
    "    return outputs, (H,)\n",
    "\n",
    "def grad_clipping(params, theta, device):\n",
    "    norm = torch.tensor([0.0], device=device)\n",
    "    for param in params:\n",
    "        norm += (param.grad.data ** 2).sum()\n",
    "    norm = norm.sqrt().item()\n",
    "    if norm > theta:\n",
    "        for param in params:\n",
    "            param.grad.data *= (theta/norm)\n"
   ]
  },
  {
   "cell_type": "code",
   "execution_count": 123,
   "metadata": {},
   "outputs": [
    {
     "name": "stdout",
     "output_type": "stream",
     "text": [
      "分\n"
     ]
    },
    {
     "data": {
      "text/plain": [
       "621"
      ]
     },
     "execution_count": 123,
     "metadata": {},
     "output_type": "execute_result"
    }
   ],
   "source": [
    "prefix='分开'\n",
    "print(prefix[0])\n",
    "char_dict['分']"
   ]
  },
  {
   "cell_type": "code",
   "execution_count": 124,
   "metadata": {},
   "outputs": [],
   "source": [
    "# Make Prediction: predict num_chars words based on the prefix\n",
    "def predict_rnn(prefix, num_chars, rnn, params, init_rnn_state, num_hiddens, vocab_size,\\\n",
    "                device, char_list, char_dict):\n",
    "    state = init_rnn_state(1, num_hiddens, device)\n",
    "    output = [char_dict[prefix[0]]]\n",
    "    for t in range(num_chars+len(prefix)-1):\n",
    "        # input: previous output\n",
    "        X = one_hot_fit(torch.tensor([[output[-1]]],device=device), vocab_size)\n",
    "        # calculate the hidden state\n",
    "        (Y,state) = rnn(X,state,params)\n",
    "        # the predicted word is the argmax word\n",
    "        if t < len(prefix)-1:\n",
    "            output.append(char_dict[prefix[t+1]])\n",
    "        else:\n",
    "            output.append(int(Y[0].argmax(1).item()))  # argmax返回index\n",
    "    return ''.join([char_list[i] for i in output])\n",
    "\n",
    "# Train\n",
    "def train_and_predict(rnn, get_params, init_rnn_state, num_hiddens, vocab_size, device,\\\n",
    "                     corpus_indices, char_list, char_dict, is_random_iter, num_epochs,\\\n",
    "                     num_steps, lr, clipping_theta, batch_size, pred_period, pred_len,\\\n",
    "                     prefixes):\n",
    "    if is_random_iter:  # 如使用相邻采样，在epoch开始时初始化隐藏状态\n",
    "        data_iter_fn = d2dl.data_iter_random\n",
    "    else:\n",
    "        data_iter_fn = d2dl.data_iter_consecutive\n",
    "    params = get_params()\n",
    "    loss = nn.CrossEntropyLoss()\n",
    "    \n",
    "    for epoch in range(num_epochs):\n",
    "        if not is_random_iter:\n",
    "            state = init_rnn_state(batch_size, num_hiddens, device)\n",
    "        l_sum, n, start = 0.0, 0, time.time()\n",
    "        data_iter = data_iter_fn(corpus_indices, batch_size, num_steps, device)\n",
    "        for X, Y in data_iter:\n",
    "            if is_random_iter:   # 如使用随机采样，在每个小批量更新前初始化隐藏状态\n",
    "                state = init_rnn_state(batch_size, num_hiddens, device)\n",
    "            else:\n",
    "            # 否则需要使用detach函数从计算图分离隐藏状态, 这是为了\n",
    "            # 使模型参数的梯度计算只依赖一次迭代读取的小批量序列(防止梯度计算开销太大)\n",
    "                # print(state[0].size())\n",
    "                for s in state:\n",
    "                    s.detach_()\n",
    "            \n",
    "            inputs = one_hot_fit(X, vocab_size)\n",
    "            # outputs有num_steps个形状为(batch_size, vocab_size)的矩阵,每个时刻的hidden output。\n",
    "            (outputs, state) = rnn(inputs, state, params)\n",
    "            # 拼接之后形状为(batch1-batch2-batch3...batch_num, vocab_size)\n",
    "            outputs = torch.cat(outputs, dim=0)\n",
    "            # Y的形状是(batch_size, num_steps)，转置后再变成长度为\n",
    "            # 变成（batch*num_step）的行向量，变成这样跟输出的行一一对应\n",
    "            y = torch.transpose(Y,0,1).contiguous().view(-1)\n",
    "            # 使用交叉熵损失计算平均分类误差\n",
    "            l = loss(outputs, y.long())\n",
    "            \n",
    "            # 梯度清零\n",
    "            if params[0].grad is not None:\n",
    "                for param in params:\n",
    "                    param.grad.data.zero_()\n",
    "            \n",
    "            l.backward()\n",
    "            grad_clipping(params, clipping_theta, device)  # 裁剪梯度\n",
    "            d2dl.sgd(params, lr, 1)  # 因为误差已经取过均值，梯度不用再做平均\n",
    "            l_sum += l.item() * y.shape[0]\n",
    "            n += y.shape[0]\n",
    "            \n",
    "        if (epoch+1) % pred_period == 0:\n",
    "            print('epoch %d, perplexity %f, time %.2f sec' % (\n",
    "                epoch + 1, math.exp(l_sum / n), time.time() - start))\n",
    "            for prefix in prefixes:\n",
    "                print(' -', predict_rnn(prefix, pred_len, rnn, params, init_rnn_state,\\\n",
    "                                       num_hiddens, vocab_size, device, char_list, char_dict))\n",
    "                \n",
    "    \n",
    "        \n",
    "        \n",
    "    "
   ]
  },
  {
   "cell_type": "code",
   "execution_count": 125,
   "metadata": {},
   "outputs": [
    {
     "name": "stdout",
     "output_type": "stream",
     "text": [
      "epoch 50, perplexity 69.205615, time 0.67 sec\n",
      " - 分开 我想要你想 我不要再想 我不要再想 我不要再想 我不要再想 我不要再想 我不要再想 我不要再想 我\n",
      " - 不分开 我想要你想 我不要再想 我不要再想 我不要再想 我不要再想 我不要再想 我不要再想 我不要再想 我\n",
      "epoch 100, perplexity 9.802858, time 0.64 sec\n",
      " - 分开 我不要再想 我不能再想 我不 我不 我不要再想你 不知不觉 你已经离不我 不知不觉 你已经这样我 \n",
      " - 不分开吗 我不能再想 我不能再想 我不 我不 我不要再想你 不知不觉 你已经离不我 不知不觉 你已经这样我\n",
      "epoch 150, perplexity 2.791066, time 0.65 sec\n",
      " - 分开 我 想带你骑单车 我 想和你看棒我的爸 就怎么 你给我都开你 有话去对医药箱说 别怪我 别怪我 说\n",
      " - 不分开吗 我不能爸 你打我妈 这样我遇多功猜样 别的让斑重比 再狠狠 我不的 如你开这我里是 但透想你 一\n",
      "epoch 200, perplexity 1.580559, time 0.70 sec\n",
      " - 分开 一只到双拳  让它你着我都多难恼多烦恼  我过你烦 我有多烦恼  没有你在我有多难熬多烦恼  穿过\n",
      " - 不分开吗 然后将过去 慢慢布习 全后怕日出 白色蜡烛 温暖了空屋 白色蜡烛 温暖了空屋 白色蜡烛 温暖了空\n",
      "epoch 250, perplexity 1.299528, time 0.59 sec\n",
      " - 分开 一只伦双截 我妈往 如过我 是你怎么信代 有管是哪里都是晴 别怪我 别怪我 难你怎么旧每日折一枝杨\n",
      " - 不分开简简单单没有伤害 你 靠着我的肩膀 你 在我胸口睡著 像这样的生活 我爱你 你爱我 开不了口 周杰伦\n"
     ]
    }
   ],
   "source": [
    "# 用随机模型\n",
    "num_epochs, num_steps, batch_size, lr, clipping_theta = 250, 35, 32, 1e2, 1e-2\n",
    "pred_period, pred_len, prefixes = 50, 50, ['分开', '不分开']\n",
    "\n",
    "train_and_predict(rnn, get_params, init_rnn_state, num_hiddens,\n",
    "                      vocab_size, device, corpus_indices, char_list,\n",
    "                      char_dict, True, num_epochs, num_steps, lr,\n",
    "                      clipping_theta, batch_size, pred_period, pred_len,\n",
    "                      prefixes)\n",
    "\n"
   ]
  },
  {
   "cell_type": "code",
   "execution_count": 126,
   "metadata": {},
   "outputs": [
    {
     "name": "stdout",
     "output_type": "stream",
     "text": [
      "epoch 50, perplexity 65.438806, time 0.62 sec\n",
      " - 分开 我想要你 温小了双 如谁我有 你是我有 我想一空 如果我有 你谁一人 如果我有 你谁一人 如果我有\n",
      " - 不分开 我想要你 温小了双 如谁我有 你是我有 我想一空 如果我有 你谁一人 如果我有 你谁一人 如果我有\n",
      "epoch 100, perplexity 7.433057, time 0.62 sec\n",
      " - 分开 我想就这样 别不人开口 仙人在怕羞 蜥蝪横人走 这里在么走 有蝪在人走 有里在么走 有底在人走 有\n",
      " - 不分开力 你天经离 我小了空  一场梦停 全暖了空  一话苦在 我有多烦熬 我不定很抽  没有你烦我有多烦\n",
      "epoch 150, perplexity 2.142149, time 0.73 sec\n",
      " - 分开 我想无 爱情么著看着我 别发抖 快给我抬起头 有话去对医药箱说 别怪我 别怪我 说你  说 回有拳\n",
      " - 不分开觉 你已经离开我 不知不觉 我跟了这节奏 后知后觉 又过了一个秋 后知后觉 我该好好生活 我该好好生\n",
      "epoch 200, perplexity 1.299166, time 0.75 sec\n",
      " - 分开 问候我 谁是了枪手 巫师 他念念 有词的 对酋长下诅咒 还我骷髅头 这故事 告诉我 印地安的传说 \n",
      " - 不分开觉我你 经堡 酒去为壁倒  教是一口 我给著努力向 景天入秋 漫脸黄沙落寞 近北情怯的我 相思寄红豆\n",
      "epoch 250, perplexity 1.183328, time 0.79 sec\n",
      " - 分开 问候我 谁是一枪手 巫师 他念念 有词的 对酋长下诅咒 还我骷髅头 一故事 告诉我遇 他止我一天活\n",
      " - 不分开觉 你已经离 我给我带 说隐出空 你一定梦 都有不同 你不懂 连一知轻重 泪水鲜红 也面放纵 恨自己\n"
     ]
    }
   ],
   "source": [
    "# 用相邻模型\n",
    "train_and_predict(rnn, get_params, init_rnn_state, num_hiddens,\n",
    "                      vocab_size, device, corpus_indices, char_list,\n",
    "                      char_dict, False, num_epochs, num_steps, lr,\n",
    "                      clipping_theta, batch_size, pred_period, pred_len,\n",
    "                      prefixes)"
   ]
  },
  {
   "cell_type": "code",
   "execution_count": null,
   "metadata": {},
   "outputs": [],
   "source": []
  }
 ],
 "metadata": {
  "kernelspec": {
   "display_name": "Python 3",
   "language": "python",
   "name": "python3"
  },
  "language_info": {
   "codemirror_mode": {
    "name": "ipython",
    "version": 3
   },
   "file_extension": ".py",
   "mimetype": "text/x-python",
   "name": "python",
   "nbconvert_exporter": "python",
   "pygments_lexer": "ipython3",
   "version": "3.7.9"
  },
  "toc": {
   "base_numbering": 1,
   "nav_menu": {},
   "number_sections": true,
   "sideBar": true,
   "skip_h1_title": false,
   "title_cell": "Table of Contents",
   "title_sidebar": "Contents",
   "toc_cell": false,
   "toc_position": {},
   "toc_section_display": true,
   "toc_window_display": false
  },
  "varInspector": {
   "cols": {
    "lenName": 16,
    "lenType": 16,
    "lenVar": 40
   },
   "kernels_config": {
    "python": {
     "delete_cmd_postfix": "",
     "delete_cmd_prefix": "del ",
     "library": "var_list.py",
     "varRefreshCmd": "print(var_dic_list())"
    },
    "r": {
     "delete_cmd_postfix": ") ",
     "delete_cmd_prefix": "rm(",
     "library": "var_list.r",
     "varRefreshCmd": "cat(var_dic_list()) "
    }
   },
   "types_to_exclude": [
    "module",
    "function",
    "builtin_function_or_method",
    "instance",
    "_Feature"
   ],
   "window_display": false
  }
 },
 "nbformat": 4,
 "nbformat_minor": 4
}
