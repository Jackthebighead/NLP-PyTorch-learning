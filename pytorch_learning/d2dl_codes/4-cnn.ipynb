{
 "cells": [
  {
   "cell_type": "markdown",
   "metadata": {},
   "source": [
    "# CNNs\n"
   ]
  },
  {
   "cell_type": "markdown",
   "metadata": {},
   "source": [
    "## Simple Convolutional Layer\n"
   ]
  },
  {
   "cell_type": "markdown",
   "metadata": {},
   "source": [
    "- 一些细节：\n",
    "  - python中的sum\n",
    "    - sum(): 计算所有元素相加\n",
    "    - sum(axis=0): 计算每一列之和，返回一行\n",
    "    - sum(axis=1): 计算每一行之和，返回一列\n",
    "  - torch中的sum(input, dim, keepdim=False): dim是the dimension or dimensions to reduce，如果是1，那么就消除列，变成一列（x，1），也可以理解为在列的角度进行sum，对每一行，所有列相加。与python的sum是一样。\n",
    "  - torch.argmax()也是这样。\n",
    "  - CNN中卷积层实际上是互相关计算，卷积的矩阵是互相关矩阵的上下、左右反转，但这无所谓，因为不管是卷积还是互相关，里面的参数都是学出来的，所以用哪种方式学出来的矩阵和输入的乘积结果都是不变的。\n",
    "    "
   ]
  },
  {
   "cell_type": "code",
   "execution_count": 1,
   "metadata": {},
   "outputs": [],
   "source": [
    "import torch\n",
    "from torch import nn as nn\n"
   ]
  },
  {
   "cell_type": "code",
   "execution_count": 2,
   "metadata": {},
   "outputs": [
    {
     "data": {
      "text/plain": [
       "tensor([[19., 25.],\n",
       "        [37., 43.]])"
      ]
     },
     "execution_count": 2,
     "metadata": {},
     "output_type": "execute_result"
    }
   ],
   "source": [
    "# The calculation of convolution\n",
    "def conv(X,Kernel):\n",
    "    h,w = Kernel.shape\n",
    "    Y = torch.zeros(X.shape[0] - h + 1, X.shape[1] - w + 1)\n",
    "    for i in range(Y.shape[0]):\n",
    "        for j in range(Y.shape[1]):\n",
    "            Y[i,j] = (X[i:i+h,j:j+w] * Kernel).sum()\n",
    "    return Y\n",
    "\n",
    "X = torch.tensor([[0, 1, 2], [3, 4, 5], [6, 7, 8]])\n",
    "K = torch.tensor([[0, 1], [2, 3]])\n",
    "conv(X, K)"
   ]
  },
  {
   "cell_type": "code",
   "execution_count": 3,
   "metadata": {},
   "outputs": [
    {
     "name": "stdout",
     "output_type": "stream",
     "text": [
      "conv_layer()\n",
      "tensor([[-3.0843, -1.9405],\n",
      "        [ 0.3472,  1.4910]], grad_fn=<AddBackward0>)\n"
     ]
    }
   ],
   "source": [
    "# The layer of convolution\n",
    "class conv_layer(nn.Module):\n",
    "    def __init__(self, kernel_size):\n",
    "        super(conv_layer,self).__init__()\n",
    "        self.kernel = nn.Parameter(torch.randn(kernel_size))\n",
    "        self.bias = nn.Parameter(torch.randn(1))\n",
    "        \n",
    "    def forward(self, X):\n",
    "        Y = conv(X, self.kernel) + self.bias\n",
    "        return Y\n",
    "\n",
    "X = torch.tensor([[0, 1, 2], [3, 4, 5], [6, 7, 8]])\n",
    "K = [2,2]  \n",
    "\n",
    "net = conv_layer(K)\n",
    "print(net)\n",
    "print(net(X))\n",
    "\n"
   ]
  },
  {
   "cell_type": "code",
   "execution_count": 4,
   "metadata": {},
   "outputs": [
    {
     "name": "stdout",
     "output_type": "stream",
     "text": [
      "X: tensor([[1., 1., 0., 0., 0., 0., 1., 1.],\n",
      "        [1., 1., 0., 0., 0., 0., 1., 1.],\n",
      "        [1., 1., 0., 0., 0., 0., 1., 1.],\n",
      "        [1., 1., 0., 0., 0., 0., 1., 1.],\n",
      "        [1., 1., 0., 0., 0., 0., 1., 1.],\n",
      "        [1., 1., 0., 0., 0., 0., 1., 1.]])\n",
      "Y tensor([[ 0.,  1.,  0.,  0.,  0., -1.,  0.],\n",
      "        [ 0.,  1.,  0.,  0.,  0., -1.,  0.],\n",
      "        [ 0.,  1.,  0.,  0.,  0., -1.,  0.],\n",
      "        [ 0.,  1.,  0.,  0.,  0., -1.,  0.],\n",
      "        [ 0.,  1.,  0.,  0.,  0., -1.,  0.],\n",
      "        [ 0.,  1.,  0.,  0.,  0., -1.,  0.]])\n"
     ]
    }
   ],
   "source": [
    "# An example to perform convolution\n",
    "X = torch.ones(6, 8)\n",
    "X[:, 2:6] = 0\n",
    "print('X:',X)\n",
    "\n",
    "K = torch.tensor([[1, -1]])\n",
    "Y = conv(X, K)\n",
    "print('Y',Y)"
   ]
  },
  {
   "cell_type": "code",
   "execution_count": 12,
   "metadata": {},
   "outputs": [
    {
     "name": "stdout",
     "output_type": "stream",
     "text": [
      "step and loss 5 18.151744842529297\n",
      "step and loss 10 2.075840473175049\n",
      "step and loss 15 0.24572691321372986\n",
      "step and loss 20 0.03135181963443756\n",
      "kernel: tensor([[ 1.0017, -0.9571]])\n",
      "bias: tensor([-0.0250])\n"
     ]
    }
   ],
   "source": [
    "# Learning process for kernel parameters\n",
    "net = conv_layer(kernel_size=(1,2))\n",
    "\n",
    "step = 20\n",
    "lr = 0.01\n",
    "for i in range(step):\n",
    "    Y_hat = net(X)\n",
    "    loss = ((Y_hat-Y)**2).sum()\n",
    "    loss.backward()\n",
    "    net.kernel.data -= lr*net.kernel.grad  # use -= to keep the change\n",
    "    net.bias.data -= lr*net.bias.grad\n",
    "    \n",
    "    #net.kernel.grad.fill_(0)\n",
    "    #net.bias.grad.fill_(0)\n",
    "    net.kernel.grad.zero_()\n",
    "    net.bias.grad.zero_()\n",
    "    if (i+1) % 5 ==0:\n",
    "        print('step and loss',i+1,loss.item())\n",
    "    \n",
    "    \n",
    "print('kernel:', net.kernel.data)\n",
    "print('bias:', net.bias.data)\n",
    "    "
   ]
  },
  {
   "cell_type": "code",
   "execution_count": null,
   "metadata": {},
   "outputs": [],
   "source": []
  },
  {
   "cell_type": "code",
   "execution_count": null,
   "metadata": {},
   "outputs": [],
   "source": []
  }
 ],
 "metadata": {
  "kernelspec": {
   "display_name": "Python 3",
   "language": "python",
   "name": "python3"
  },
  "language_info": {
   "codemirror_mode": {
    "name": "ipython",
    "version": 3
   },
   "file_extension": ".py",
   "mimetype": "text/x-python",
   "name": "python",
   "nbconvert_exporter": "python",
   "pygments_lexer": "ipython3",
   "version": "3.7.9"
  },
  "toc": {
   "base_numbering": 1,
   "nav_menu": {},
   "number_sections": true,
   "sideBar": true,
   "skip_h1_title": false,
   "title_cell": "Table of Contents",
   "title_sidebar": "Contents",
   "toc_cell": false,
   "toc_position": {},
   "toc_section_display": true,
   "toc_window_display": false
  },
  "varInspector": {
   "cols": {
    "lenName": 16,
    "lenType": 16,
    "lenVar": 40
   },
   "kernels_config": {
    "python": {
     "delete_cmd_postfix": "",
     "delete_cmd_prefix": "del ",
     "library": "var_list.py",
     "varRefreshCmd": "print(var_dic_list())"
    },
    "r": {
     "delete_cmd_postfix": ") ",
     "delete_cmd_prefix": "rm(",
     "library": "var_list.r",
     "varRefreshCmd": "cat(var_dic_list()) "
    }
   },
   "types_to_exclude": [
    "module",
    "function",
    "builtin_function_or_method",
    "instance",
    "_Feature"
   ],
   "window_display": false
  }
 },
 "nbformat": 4,
 "nbformat_minor": 4
}
