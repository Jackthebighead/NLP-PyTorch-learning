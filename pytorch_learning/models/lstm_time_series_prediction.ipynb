{
 "cells": [
  {
   "cell_type": "markdown",
   "metadata": {},
   "source": [
    "# LSTM for Time Series Prediction\n",
    "\n",
    "`Author: YUAN Yanzhe`\n",
    "- a demo for LSTM in the application of time series prediction\n",
    "- a regression task\n"
   ]
  },
  {
   "cell_type": "markdown",
   "metadata": {},
   "source": [
    "## LSTM on Passenger Prediction\n",
    "\n",
    "- 一些细节：\n",
    "  - squeeze函数\n",
    "    - torch.unsqueeze(input, dim, out=None)将输入张量维度的指定位置加上1维度\n",
    "    - torch.squeeze(input, dim=None, out=None)将输入张量维度中的1去除并返回\n",
    "    - unsqueeze_ 和 unsqueeze 实现一样的功能,区别在于 unsqueeze_ 是 in_place 操作,即 unsqueeze 不会对使用 unsqueeze 的 tensor 进行改变,想要获取 unsqueeze 后的值必须赋予个新值, unsqueeze_ 则会对自己改变。\n",
    "  - window_len参数实际上是LSTM的隐层time-step数，若把这个看成一个语言模型，这个就是句子的单词数。在这个demo中，用一个长度为4的window，设定用过去四个数据(4\\*12)来预测下一个(1\\*12)的数据，12是特征。具体每个1\\*12输入进一个LSTM cell，输出的hidden的向量维度是num_hidden，在这里是10.\n",
    "  - reshape(-1, 1).squeeze()不错的转换为1维的方法"
   ]
  },
  {
   "cell_type": "code",
   "execution_count": 42,
   "metadata": {},
   "outputs": [],
   "source": [
    "import torch \n",
    "import torch.nn as nn\n",
    "\n",
    "import seaborn as sns\n",
    "import numpy as np\n",
    "import pandas as pd \n",
    "import matplotlib.pyplot as plt\n",
    "import pandas as pd\n",
    "from sklearn.preprocessing import MinMaxScaler\n",
    "%matplotlib inline"
   ]
  },
  {
   "cell_type": "code",
   "execution_count": 43,
   "metadata": {},
   "outputs": [
    {
     "data": {
      "text/html": [
       "<div>\n",
       "<style scoped>\n",
       "    .dataframe tbody tr th:only-of-type {\n",
       "        vertical-align: middle;\n",
       "    }\n",
       "\n",
       "    .dataframe tbody tr th {\n",
       "        vertical-align: top;\n",
       "    }\n",
       "\n",
       "    .dataframe thead th {\n",
       "        text-align: right;\n",
       "    }\n",
       "</style>\n",
       "<table border=\"1\" class=\"dataframe\">\n",
       "  <thead>\n",
       "    <tr style=\"text-align: right;\">\n",
       "      <th></th>\n",
       "      <th>Month</th>\n",
       "      <th>Passengers</th>\n",
       "    </tr>\n",
       "  </thead>\n",
       "  <tbody>\n",
       "    <tr>\n",
       "      <th>0</th>\n",
       "      <td>1949-01</td>\n",
       "      <td>112</td>\n",
       "    </tr>\n",
       "    <tr>\n",
       "      <th>1</th>\n",
       "      <td>1949-02</td>\n",
       "      <td>118</td>\n",
       "    </tr>\n",
       "    <tr>\n",
       "      <th>2</th>\n",
       "      <td>1949-03</td>\n",
       "      <td>132</td>\n",
       "    </tr>\n",
       "    <tr>\n",
       "      <th>3</th>\n",
       "      <td>1949-04</td>\n",
       "      <td>129</td>\n",
       "    </tr>\n",
       "    <tr>\n",
       "      <th>4</th>\n",
       "      <td>1949-05</td>\n",
       "      <td>121</td>\n",
       "    </tr>\n",
       "  </tbody>\n",
       "</table>\n",
       "</div>"
      ],
      "text/plain": [
       "     Month  Passengers\n",
       "0  1949-01         112\n",
       "1  1949-02         118\n",
       "2  1949-03         132\n",
       "3  1949-04         129\n",
       "4  1949-05         121"
      ]
     },
     "execution_count": 43,
     "metadata": {},
     "output_type": "execute_result"
    }
   ],
   "source": [
    "data = pd.read_csv('/Users/yanzheyuan/coding/dataset/airline-passengers.csv')\n",
    "data.head()"
   ]
  },
  {
   "cell_type": "code",
   "execution_count": 44,
   "metadata": {},
   "outputs": [
    {
     "data": {
      "text/plain": [
       "(144, 2)"
      ]
     },
     "execution_count": 44,
     "metadata": {},
     "output_type": "execute_result"
    }
   ],
   "source": [
    "data.shape"
   ]
  },
  {
   "cell_type": "code",
   "execution_count": 47,
   "metadata": {},
   "outputs": [
    {
     "data": {
      "text/plain": [
       "(12, 12)"
      ]
     },
     "execution_count": 47,
     "metadata": {},
     "output_type": "execute_result"
    }
   ],
   "source": [
    "# Data Preprocessing\n",
    "num_feature = 12\n",
    "\n",
    "sc = MinMaxScaler()  # normalization\n",
    "data_clean = sc.fit_transform(np.array(data.iloc[:,1:]).astype(np.float32)).reshape(-1,num_feature)\n",
    "data_clean.shape"
   ]
  },
  {
   "cell_type": "code",
   "execution_count": 69,
   "metadata": {},
   "outputs": [
    {
     "name": "stdout",
     "output_type": "stream",
     "text": [
      "the size of the training set: 8 4\n",
      "rnn(\n",
      "  (lstm): LSTM(12, 10, batch_first=True)\n",
      "  (linear): Linear(in_features=10, out_features=12, bias=True)\n",
      ")\n",
      "Epoch: 20, Loss: 0.008889\n",
      "Epoch: 40, Loss: 0.018671\n",
      "Epoch: 60, Loss: 0.010075\n",
      "Epoch: 80, Loss: 0.009168\n",
      "Epoch: 100, Loss: 0.013527\n",
      "Epoch: 120, Loss: 0.008549\n",
      "Epoch: 140, Loss: 0.010815\n",
      "Epoch: 160, Loss: 0.010588\n",
      "Epoch: 180, Loss: 0.009585\n",
      "Epoch: 200, Loss: 0.009492\n",
      "Epoch: 220, Loss: 0.009434\n",
      "Epoch: 240, Loss: 0.009302\n",
      "Epoch: 260, Loss: 0.009122\n",
      "Epoch: 280, Loss: 0.008897\n",
      "Epoch: 300, Loss: 0.008567\n",
      "Epoch: 320, Loss: 0.007732\n",
      "Epoch: 340, Loss: 0.011217\n",
      "Epoch: 360, Loss: 0.007702\n",
      "Epoch: 380, Loss: 0.007514\n",
      "Epoch: 400, Loss: 0.010635\n",
      "8\n"
     ]
    },
    {
     "data": {
      "image/png": "[encoded data removed]",
      "text/plain": [
       "<Figure size 432x288 with 1 Axes>"
      ]
     },
     "metadata": {
      "needs_background": "light"
     },
     "output_type": "display_data"
    }
   ],
   "source": [
    "# Obtain Data\n",
    "# batch_size = 4, every example in a batch is a 12-month passenger-stats\n",
    "window_len = 4\n",
    "train_data = []\n",
    "train_label = []\n",
    "for i in range(data_clean.shape[0]-window_len):\n",
    "    train_data.append(data_clean[i:i+window_len,:])\n",
    "    train_label.append(data_clean[i+window_len,:])\n",
    "\n",
    "print('the size of the training set:',len(train_data),len(train_data[0]))\n",
    "#for X,y in zip(train_data,train_label):\n",
    "#    print(X.shape)  # 4,12\n",
    "#    print(y.shape)  # 1,12\n",
    "#    break\n",
    "\n",
    "# Hyperparameters\n",
    "num_epochs = 400\n",
    "learning_rate = 0.01\n",
    "\n",
    "num_input = 12\n",
    "num_hidden = 10\n",
    "num_output = 12\n",
    "num_layer = 1\n",
    "\n",
    "# Define Model\n",
    "class rnn(nn.Module):\n",
    "    def __init__(self,num_input,num_hidden,num_output,num_layer):\n",
    "        super(rnn,self).__init__()\n",
    "        self.lstm = nn.LSTM(input_size=num_input,hidden_size=num_hidden,num_layers=num_layer,batch_first=True)\n",
    "        self.linear = nn.Linear(num_hidden,num_output)\n",
    "        \n",
    "    def forward(self,x):\n",
    "        _, (h_out, _) = self.lstm(x)  # h_out's shape (batchsize, n_layer*n_direction, hidden_dim), i.e. (1, 1, 10)\n",
    "        h_out = h_out.view(h_out.shape[0],-1)\n",
    "        h_out = self.linear(h_out)\n",
    "        return h_out\n",
    "\n",
    "net = rnn(num_input,num_hidden,num_output,num_layer)\n",
    "print(net)\n",
    "\n",
    "loss_func = nn.MSELoss()\n",
    "optimizor = torch.optim.Adam(net.parameters(),lr=learning_rate)\n",
    "\n",
    "# Train Model\n",
    "for param in net.parameters():\n",
    "    torch.nn.init.normal_(param,mean=0,std=0.01)\n",
    "\n",
    "for epoch in range(num_epochs):\n",
    "    total_loss = 0.0\n",
    "    for X,y in zip(train_data,train_label):\n",
    "        X = torch.tensor(X)  # no need for float()\n",
    "        y = torch.tensor(y)\n",
    "        X = torch.unsqueeze(X,0)  # add batch_size = 1\n",
    "        output = net(X)\n",
    "        loss = loss_func(torch.squeeze(output),y)  # reduce the batch_size dim\n",
    "        optimizor.zero_grad()\n",
    "        loss.backward()\n",
    "        optimizor.step()\n",
    "        \n",
    "        total_loss += loss.item()\n",
    "    \n",
    "    if (epoch+1) % 20 == 0:\n",
    "        print('Epoch: %d, Loss: %f' %(epoch+1,total_loss))\n",
    "        \n",
    "# Prediction\n",
    "net.eval()\n",
    "predict = []\n",
    "for X in train_data:\n",
    "    X = torch.tensor(X)\n",
    "    X = torch.unsqueeze(X,0)\n",
    "    output = net(X)\n",
    "    output = torch.squeeze(output)\n",
    "    predict.append(output.data.numpy())\n",
    "print(len(predict))\n",
    "\n",
    "# Visualize Prediction\n",
    "plt.figure()\n",
    "predict = np.array(predict)\n",
    "predict = predict.reshape(-1, 1).squeeze()\n",
    "x_tick = np.arange(len(predict)) + (window_len*num_feature)\n",
    "plt.plot(list(x_tick), predict, label='predict data')\n",
    " \n",
    "data_original = data_clean.reshape(-1, 1).squeeze()\n",
    "plt.plot(range(len(data_original)), data_original, label='original data')\n",
    " \n",
    "plt.legend(loc='best')\n",
    "plt.show()\n",
    "\n",
    "\n"
   ]
  },
  {
   "cell_type": "code",
   "execution_count": 68,
   "metadata": {},
   "outputs": [
    {
     "name": "stdout",
     "output_type": "stream",
     "text": [
      "(4, 12)\n"
     ]
    }
   ],
   "source": []
  },
  {
   "cell_type": "code",
   "execution_count": 1,
   "metadata": {},
   "outputs": [],
   "source": [
    "a = [[0]*2 for i in range(10)]"
   ]
  },
  {
   "cell_type": "code",
   "execution_count": 2,
   "metadata": {},
   "outputs": [
    {
     "data": {
      "text/plain": [
       "[[0, 0],\n",
       " [0, 0],\n",
       " [0, 0],\n",
       " [0, 0],\n",
       " [0, 0],\n",
       " [0, 0],\n",
       " [0, 0],\n",
       " [0, 0],\n",
       " [0, 0],\n",
       " [0, 0]]"
      ]
     },
     "execution_count": 2,
     "metadata": {},
     "output_type": "execute_result"
    }
   ],
   "source": [
    "a"
   ]
  },
  {
   "cell_type": "code",
   "execution_count": 4,
   "metadata": {},
   "outputs": [
    {
     "ename": "AttributeError",
     "evalue": "'list' object has no attribute 'sum'",
     "output_type": "error",
     "traceback": [
      "\u001b[0;31m---------------------------------------------------------------------------\u001b[0m",
      "\u001b[0;31mAttributeError\u001b[0m                            Traceback (most recent call last)",
      "\u001b[0;32m<ipython-input-4-393d3db239ee>\u001b[0m in \u001b[0;36m<module>\u001b[0;34m\u001b[0m\n\u001b[0;32m----> 1\u001b[0;31m \u001b[0ma\u001b[0m\u001b[0;34m.\u001b[0m\u001b[0msum\u001b[0m\u001b[0;34m(\u001b[0m\u001b[0;34m)\u001b[0m\u001b[0;34m\u001b[0m\u001b[0;34m\u001b[0m\u001b[0m\n\u001b[0m",
      "\u001b[0;31mAttributeError\u001b[0m: 'list' object has no attribute 'sum'"
     ]
    }
   ],
   "source": []
  },
  {
   "cell_type": "code",
   "execution_count": null,
   "metadata": {},
   "outputs": [],
   "source": []
  }
 ],
 "metadata": {
  "kernelspec": {
   "display_name": "Python 3",
   "language": "python",
   "name": "python3"
  },
  "language_info": {
   "codemirror_mode": {
    "name": "ipython",
    "version": 3
   },
   "file_extension": ".py",
   "mimetype": "text/x-python",
   "name": "python",
   "nbconvert_exporter": "python",
   "pygments_lexer": "ipython3",
   "version": "3.7.9"
  },
  "toc": {
   "base_numbering": 1,
   "nav_menu": {},
   "number_sections": true,
   "sideBar": true,
   "skip_h1_title": false,
   "title_cell": "Table of Contents",
   "title_sidebar": "Contents",
   "toc_cell": false,
   "toc_position": {},
   "toc_section_display": true,
   "toc_window_display": false
  },
  "varInspector": {
   "cols": {
    "lenName": 16,
    "lenType": 16,
    "lenVar": 40
   },
   "kernels_config": {
    "python": {
     "delete_cmd_postfix": "",
     "delete_cmd_prefix": "del ",
     "library": "var_list.py",
     "varRefreshCmd": "print(var_dic_list())"
    },
    "r": {
     "delete_cmd_postfix": ") ",
     "delete_cmd_prefix": "rm(",
     "library": "var_list.r",
     "varRefreshCmd": "cat(var_dic_list()) "
    }
   },
   "types_to_exclude": [
    "module",
    "function",
    "builtin_function_or_method",
    "instance",
    "_Feature"
   ],
   "window_display": false
  }
 },
 "nbformat": 4,
 "nbformat_minor": 4
}
