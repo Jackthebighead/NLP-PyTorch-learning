{
 "cells": [
  {
   "cell_type": "markdown",
   "metadata": {},
   "source": [
    "# CNN\n"
   ]
  },
  {
   "cell_type": "markdown",
   "metadata": {},
   "source": [
    "## Simple Convolutional Layer from Scratch\n",
    "\n",
    "- CNN:\n",
    "  - convolutional layer\n",
    "    - convolution computing\n",
    "    - with padding and stride\n",
    "  - pooling layer\n",
    "  - fully-connected layer\n",
    "  - activate function\n"
   ]
  },
  {
   "cell_type": "code",
   "execution_count": 34,
   "metadata": {},
   "outputs": [
    {
     "name": "stdout",
     "output_type": "stream",
     "text": [
      "tensor([[24., 36.],\n",
      "        [72., 84.]])\n",
      "tensor([[4., 5.],\n",
      "        [7., 8.]])\n",
      "tensor([[0.5000, 0.5000],\n",
      "        [0.2689, 0.7311]])\n"
     ]
    }
   ],
   "source": [
    "def conv(X, K, std=1, pad=0):\n",
    "    X = X.float()\n",
    "    \n",
    "    k_h, k_w = K.shape\n",
    "    x_h, x_w = X.shape\n",
    "    \n",
    "    x_h_pad, x_w_pad = x_h+pad*2, x_w+pad*2 \n",
    "    X_pad = torch.zeros(x_h_pad,x_w_pad)\n",
    "    X_pad[pad:pad+x_h, pad:pad+x_w] += X\n",
    "    \n",
    "    y_h, y_w = (x_h_pad-k_h)//std + 1, (x_w_pad-k_w)//std + 1\n",
    "    Y = torch.zeros(y_h,y_w)\n",
    "    \n",
    "    for i in range(Y.shape[0]):\n",
    "        for j in range(Y.shape[1]):\n",
    "            Y[i,j] = (X_pad[i*std:i*std+k_h, j*std:j*std+k_w]*K).sum()\n",
    "    \n",
    "    return Y\n",
    "\n",
    "def conv_multi_in(X, K, std=1, pad=0):\n",
    "    res = conv(X[0,:,:],K[0,:,:],std,pad)\n",
    "    for i in range(1,X.shape[0]):\n",
    "        res += conv(X[i,:,:],K[i,:,:],std,pad)\n",
    "    return res\n",
    "\n",
    "def conv_multi_in_out(X, K, std=1, pad=0):\n",
    "    return torch.stack([conv_multi_in(X,k,std,pad) for k in K])\n",
    "\n",
    "# test\n",
    "X = torch.tensor([[0, 1, 2, 3], [4, 5, 6, 7], [8, 9, 10, 11], [12, 13, 14, 15]])\n",
    "K = torch.tensor([[0, 1], [2, 3]])\n",
    "print(conv(X, K, 2, 0))   \n",
    "\n",
    "def pool(X, p_size, std, pad=0, mode='max'):\n",
    "    X = X.float()\n",
    "    p_h, p_w = p_size\n",
    "\n",
    "    x_h, x_w = X.shape\n",
    "    \n",
    "    x_h_pad, x_w_pad = x_h+pad*2, x_w+pad*2\n",
    "    X_pad = torch.zeros(x_h_pad,x_w_pad)\n",
    "    X_pad[pad:pad+x_h, pad:pad+x_w] += X\n",
    "    \n",
    "    y_h, y_w = (x_h_pad-p_h)//std + 1, (x_w_pad-p_w)//std + 1\n",
    "    Y = torch.zeros(y_h,y_w)\n",
    "    \n",
    "    for i in range(Y.shape[0]):\n",
    "        for j in range(Y.shape[1]):\n",
    "            if mode == 'max':\n",
    "                Y[i,j] = X[i*std:i*std+p_h, j*std:j*std+p_w].max()\n",
    "            elif mode == 'mean':\n",
    "                Y[i,j] = X[i*std:i*std+p_h, j*std:j*std+p_w].sum()\n",
    "    return Y\n",
    "\n",
    "def pool_multi(X, p_size, std, pad=0, mode='max'):\n",
    "    return torch.cat([pool(x, p_size, std, pad=0, mode='max') for x in X],dim=0)\n",
    "\n",
    "# test    \n",
    "X = torch.tensor([[0, 1, 2], [3, 4, 5], [6, 7, 8]])\n",
    "print(pool(X,(2,2),1,0,'max'))   \n",
    "\n",
    "  \n",
    "def sigmoid(X):\n",
    "    return 1/1+torch.exp(X)\n",
    "\n",
    "def ReLU(X):\n",
    "    return torch.max(X,torch.tensor(0.0))\n",
    "    #return torch.max(input=X,other=torch.tensor(0.0))\n",
    "\n",
    "def linear(X,W,b):\n",
    "    return torch.matmul(X,W)+b\n",
    "\n",
    "def softmax(X):\n",
    "    return torch.exp(X)/(torch.exp(X).sum(dim=1,keepdim=True))\n",
    "\n",
    "X = torch.tensor([[0, 0], [3, 4]]).float()\n",
    "print(softmax(X))"
   ]
  },
  {
   "cell_type": "markdown",
   "metadata": {},
   "source": [
    "## CNN with MNIST Using PyTorch\n"
   ]
  },
  {
   "cell_type": "code",
   "execution_count": 32,
   "metadata": {},
   "outputs": [],
   "source": [
    "# Import Packages\n",
    "import torch\n",
    "from torch import nn as nn\n",
    "from torch import optim as optim\n",
    "from torch.utils import data as Data\n",
    "\n",
    "import torchvision\n",
    "from torchvision import datasets\n",
    "from torchvision import transforms\n",
    "\n",
    "import numpy as np\n",
    "import pandas as pd \n",
    "\n",
    "import d2lzh_pytorch as d2dl\n"
   ]
  },
  {
   "cell_type": "code",
   "execution_count": 17,
   "metadata": {},
   "outputs": [
    {
     "name": "stdout",
     "output_type": "stream",
     "text": [
      "cnn_model(\n",
      "  (cnn_layer): Sequential(\n",
      "    (0): Conv2d(1, 16, kernel_size=(7, 7), stride=(1, 1), padding=(1, 1))\n",
      "    (1): Sigmoid()\n",
      "    (2): MaxPool2d(kernel_size=2, stride=2, padding=0, dilation=1, ceil_mode=False)\n",
      "    (3): Sigmoid()\n",
      "  )\n",
      "  (fc_layer): Sequential(\n",
      "    (0): Linear(in_features=2304, out_features=10, bias=True)\n",
      "  )\n",
      ")\n",
      "Epoch: 1, Average loss: 3.6605, Average accuracy: 33.48%, Test Accuracy: 64.36%\n",
      "Epoch: 2, Average loss: 0.8148, Average accuracy: 76.31%, Test Accuracy: 84.90%\n",
      "Epoch: 3, Average loss: 0.4729, Average accuracy: 85.77%, Test Accuracy: 81.24%\n",
      "Epoch: 4, Average loss: 0.3865, Average accuracy: 88.30%, Test Accuracy: 88.59%\n",
      "Epoch: 5, Average loss: 0.3241, Average accuracy: 90.16%, Test Accuracy: 91.21%\n"
     ]
    }
   ],
   "source": [
    "# Hyperparameters\n",
    "batch_size = 256\n",
    "num_epochs = 5\n",
    "learning_rate = 0.01\n",
    "\n",
    "num_classes = 10\n",
    "\n",
    "# Load Data\n",
    "train_data = torchvision.datasets.MNIST(root='/Users/yanzheyuan/coding/dataset_pytorch/',\\\n",
    "                                       train=True, transform=transforms.ToTensor()) \n",
    "test_data = torchvision.datasets.MNIST(root='/Users/yanzheyuan/coding/dataset_pytorch/',\\\n",
    "                                       train=False, transform=transforms.ToTensor()) \n",
    "\n",
    "train_iterator = Data.DataLoader(train_data,batch_size=batch_size,shuffle=True)\n",
    "test_iterator = Data.DataLoader(test_data,batch_size=batch_size,shuffle=True)\n",
    "\n",
    "# Define Model\n",
    "class cnn_model(nn.Module):\n",
    "    def __init__(self,num_classes):\n",
    "        super(cnn_model,self).__init__()\n",
    "        self.cnn_layer = nn.Sequential(\n",
    "            nn.Conv2d(in_channels=1,out_channels=16,kernel_size=7,padding=1,stride=1),\n",
    "            nn.Sigmoid(),\n",
    "            nn.MaxPool2d(2,2),\n",
    "            nn.Sigmoid()\n",
    "        )\n",
    "        self.fc_layer = nn.Sequential(\n",
    "            nn.Linear(16*12*12,num_classes)\n",
    "        )\n",
    "    def forward(self, x):\n",
    "        y = self.cnn_layer(x)\n",
    "        y = self.fc_layer(y.view(x.shape[0],-1))\n",
    "        return y\n",
    "\n",
    "net = cnn_model(num_classes=10)\n",
    "print(net)\n",
    "\n",
    "loss_func = nn.CrossEntropyLoss()\n",
    "optimizor = optim.Adam(net.parameters(), lr=learning_rate)\n",
    "\n",
    "# Train Model\n",
    "def evaluate_model(net, test_iterator):\n",
    "    with torch.no_grad():\n",
    "        correct,num_exp = 0.0,0\n",
    "        for X,y in test_iterator:\n",
    "            output = net(X)\n",
    "            num_exp += y.size(0)\n",
    "            correct += (output.argmax(1)==y).sum().item()\n",
    "            \n",
    "    return correct/num_exp*100\n",
    "\n",
    "def train_model(num_epochs, train_iterator, test_iterator, loss_func, optimizor, net):\n",
    "    for epoch in range(num_epochs):\n",
    "        total_loss,total_batch,total_acc,total_num = 0.0,0,0.0,0\n",
    "        for X, y in train_iterator:\n",
    "            output = net(X)\n",
    "            loss = loss_func(output,y)\n",
    "            optimizor.zero_grad()\n",
    "            loss.backward()\n",
    "            optimizor.step()\n",
    "            \n",
    "            total_loss += loss.item()\n",
    "            total_batch += 1\n",
    "            total_acc += (output.argmax(1)==y).sum().item()\n",
    "            total_num += y.size(0)\n",
    "        \n",
    "        test_acc = evaluate_model(net, test_iterator)\n",
    "        print('Epoch: {}, Average loss: {:.4f}, Average accuracy: {:.2f}%, Test Accuracy: {:.2f}%' \\\n",
    "              .format(epoch+1, total_loss/total_batch, total_acc/total_num*100, test_acc))\n",
    "\n",
    "train_model(num_epochs,train_iterator,test_iterator,loss_func,optimizor,net)\n",
    "        \n",
    "# Prediction"
   ]
  },
  {
   "cell_type": "code",
   "execution_count": null,
   "metadata": {},
   "outputs": [],
   "source": []
  },
  {
   "cell_type": "code",
   "execution_count": null,
   "metadata": {},
   "outputs": [],
   "source": []
  },
  {
   "cell_type": "code",
   "execution_count": null,
   "metadata": {},
   "outputs": [],
   "source": []
  },
  {
   "cell_type": "code",
   "execution_count": null,
   "metadata": {},
   "outputs": [],
   "source": []
  },
  {
   "cell_type": "code",
   "execution_count": null,
   "metadata": {},
   "outputs": [],
   "source": []
  },
  {
   "cell_type": "code",
   "execution_count": null,
   "metadata": {},
   "outputs": [],
   "source": []
  },
  {
   "cell_type": "code",
   "execution_count": null,
   "metadata": {},
   "outputs": [],
   "source": []
  }
 ],
 "metadata": {
  "kernelspec": {
   "display_name": "Python 3",
   "language": "python",
   "name": "python3"
  },
  "language_info": {
   "codemirror_mode": {
    "name": "ipython",
    "version": 3
   },
   "file_extension": ".py",
   "mimetype": "text/x-python",
   "name": "python",
   "nbconvert_exporter": "python",
   "pygments_lexer": "ipython3",
   "version": "3.7.9"
  },
  "toc": {
   "base_numbering": 1,
   "nav_menu": {},
   "number_sections": true,
   "sideBar": true,
   "skip_h1_title": false,
   "title_cell": "Table of Contents",
   "title_sidebar": "Contents",
   "toc_cell": false,
   "toc_position": {},
   "toc_section_display": true,
   "toc_window_display": false
  },
  "varInspector": {
   "cols": {
    "lenName": 16,
    "lenType": 16,
    "lenVar": 40
   },
   "kernels_config": {
    "python": {
     "delete_cmd_postfix": "",
     "delete_cmd_prefix": "del ",
     "library": "var_list.py",
     "varRefreshCmd": "print(var_dic_list())"
    },
    "r": {
     "delete_cmd_postfix": ") ",
     "delete_cmd_prefix": "rm(",
     "library": "var_list.r",
     "varRefreshCmd": "cat(var_dic_list()) "
    }
   },
   "types_to_exclude": [
    "module",
    "function",
    "builtin_function_or_method",
    "instance",
    "_Feature"
   ],
   "window_display": false
  }
 },
 "nbformat": 4,
 "nbformat_minor": 4
}
